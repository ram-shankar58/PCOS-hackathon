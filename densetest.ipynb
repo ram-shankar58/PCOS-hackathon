{
 "cells": [
  {
   "cell_type": "code",
   "execution_count": 2,
   "metadata": {},
   "outputs": [],
   "source": [
    "import numpy as np\n",
    "from keras.preprocessing.image import ImageDataGenerator\n",
    "from keras.callbacks import EarlyStopping, ReduceLROnPlateau\n",
    "from keras.metrics import BinaryAccuracy\n",
    "from densenetmodel import create_model\n",
    "import os\n",
    "import cv2"
   ]
  },
  {
   "cell_type": "code",
   "execution_count": 3,
   "metadata": {},
   "outputs": [],
   "source": [
    "x_train_paths=np.load('Dataset/X_train.npy',allow_pickle=True)\n",
    "y_train=np.load('Dataset/y_train.npy',allow_pickle=True)\n",
    "x_test_paths=np.load('Dataset/X_test.npy',allow_pickle=True)\n",
    "y_test=np.load('Dataset/y_test.npy',allow_pickle=True)"
   ]
  },
  {
   "cell_type": "code",
   "execution_count": 6,
   "metadata": {},
   "outputs": [],
   "source": [
    "def load_images(image_paths, image_size=(280, 280)):\n",
    "    \"\"\"\n",
    "    This function loads grayscale images from disk based on their file paths and resizes them to a consistent size.\n",
    "    \"\"\"\n",
    "    images = []\n",
    "\n",
    "    for img_file in image_paths:\n",
    "        # create the full input path and read the file\n",
    "        image_path = os.path.join('Dataset\\PCOSGen-train\\PCOSGen-train\\images', img_file)\n",
    "        \n",
    "        image = cv2.imread(image_path, cv2.IMREAD_GRAYSCALE)\n",
    "        image = cv2.resize(image, image_size)\n",
    "        # duplicate the grayscale image across three channels\n",
    "        image = cv2.cvtColor(image, cv2.COLOR_GRAY2BGR)\n",
    "\n",
    "        images.append(image)\n",
    "\n",
    "    return np.array(images)"
   ]
  },
  {
   "cell_type": "code",
   "execution_count": 7,
   "metadata": {},
   "outputs": [],
   "source": [
    "x_train, y_train = load_images(x_train_paths), y_train\n",
    "x_test, y_test = load_images(x_test_paths), y_test"
   ]
  },
  {
   "cell_type": "code",
   "execution_count": 27,
   "metadata": {},
   "outputs": [],
   "source": [
    "\n",
    "def test_model(x_train, y_train, x_test, y_test):\n",
    "    # dimensions of our images.\n",
    "    img_width, img_height = 280, 280\n",
    "\n",
    "    # specify the number of classes\n",
    "    num_classes = 2\n",
    "\n",
    "    # create the base pre-trained model\n",
    "    # create the base pre-trained model\n",
    "    model = create_model((img_width, img_height, 3), num_classes)\n",
    "\n",
    "\n",
    "    # define callbacks\n",
    "    early_stopping = EarlyStopping(monitor='val_loss', patience=10)\n",
    "    learning_rate_reduction = ReduceLROnPlateau(monitor='val_loss', patience=2, verbose=1, factor=0.5, min_lr=0.00001)\n",
    "\n",
    "    # fit the model\n",
    "    model.fit(x_train, y_train, validation_data=(x_test, y_test), epochs=5, batch_size=32, callbacks=[early_stopping, learning_rate_reduction])\n",
    "\n",
    "    # save weights to file\n",
    "    model.save_weights('model_weights.h5')\n",
    "\n",
    "    # predict the output \n",
    "    predictions = model.predict(x_test)\n",
    "\n",
    "    # get the class with highest probability for each sample\n",
    "    y_pred = np.argmax(predictions, axis=1)\n",
    "\n",
    "    return y_pred,model\n"
   ]
  },
  {
   "cell_type": "code",
   "execution_count": 28,
   "metadata": {},
   "outputs": [
    {
     "name": "stderr",
     "output_type": "stream",
     "text": [
      "The `lr` argument is deprecated, use `learning_rate` instead.\n"
     ]
    },
    {
     "name": "stdout",
     "output_type": "stream",
     "text": [
      "Epoch 1/5\n",
      "80/80 [==============================] - 51s 557ms/step - loss: 0.5035 - accuracy: 0.7359 - val_loss: 0.4506 - val_accuracy: 0.7578 - lr: 1.0000e-04\n",
      "Epoch 2/5\n",
      "80/80 [==============================] - 44s 548ms/step - loss: 0.4234 - accuracy: 0.7785 - val_loss: 0.4333 - val_accuracy: 0.7844 - lr: 1.0000e-04\n",
      "Epoch 3/5\n",
      "80/80 [==============================] - 44s 548ms/step - loss: 0.4052 - accuracy: 0.7926 - val_loss: 0.4319 - val_accuracy: 0.7891 - lr: 1.0000e-04\n",
      "Epoch 4/5\n",
      "80/80 [==============================] - 44s 547ms/step - loss: 0.3616 - accuracy: 0.8191 - val_loss: 0.4773 - val_accuracy: 0.7625 - lr: 1.0000e-04\n",
      "Epoch 5/5\n",
      "80/80 [==============================] - ETA: 0s - loss: 0.3541 - accuracy: 0.8207\n",
      "Epoch 5: ReduceLROnPlateau reducing learning rate to 4.999999873689376e-05.\n",
      "80/80 [==============================] - 44s 547ms/step - loss: 0.3541 - accuracy: 0.8207 - val_loss: 0.4456 - val_accuracy: 0.7734 - lr: 1.0000e-04\n",
      "20/20 [==============================] - 4s 142ms/step\n"
     ]
    }
   ],
   "source": [
    "import os\n",
    "os.environ['CUDA_VISIBLE_DEVICES']=\"0\"\n",
    "y_pred,model = test_model(x_train, y_train, x_test, y_test)"
   ]
  },
  {
   "cell_type": "code",
   "execution_count": 20,
   "metadata": {},
   "outputs": [
    {
     "name": "stdout",
     "output_type": "stream",
     "text": [
      "Requirement already satisfied: seaborn in c:\\users\\project\\anaconda3\\envs\\tf\\lib\\site-packages (0.13.2)\n",
      "Requirement already satisfied: numpy!=1.24.0,>=1.20 in c:\\users\\project\\appdata\\roaming\\python\\python39\\site-packages (from seaborn) (1.26.4)\n",
      "Requirement already satisfied: pandas>=1.2 in c:\\users\\project\\anaconda3\\envs\\tf\\lib\\site-packages (from seaborn) (2.2.1)\n",
      "Requirement already satisfied: matplotlib!=3.6.1,>=3.4 in c:\\users\\project\\anaconda3\\envs\\tf\\lib\\site-packages (from seaborn) (3.8.3)\n",
      "Requirement already satisfied: contourpy>=1.0.1 in c:\\users\\project\\anaconda3\\envs\\tf\\lib\\site-packages (from matplotlib!=3.6.1,>=3.4->seaborn) (1.2.0)\n",
      "Requirement already satisfied: cycler>=0.10 in c:\\users\\project\\anaconda3\\envs\\tf\\lib\\site-packages (from matplotlib!=3.6.1,>=3.4->seaborn) (0.12.1)\n",
      "Requirement already satisfied: fonttools>=4.22.0 in c:\\users\\project\\anaconda3\\envs\\tf\\lib\\site-packages (from matplotlib!=3.6.1,>=3.4->seaborn) (4.49.0)\n",
      "Requirement already satisfied: kiwisolver>=1.3.1 in c:\\users\\project\\anaconda3\\envs\\tf\\lib\\site-packages (from matplotlib!=3.6.1,>=3.4->seaborn) (1.4.5)\n",
      "Requirement already satisfied: packaging>=20.0 in c:\\users\\project\\appdata\\roaming\\python\\python39\\site-packages (from matplotlib!=3.6.1,>=3.4->seaborn) (23.2)\n",
      "Requirement already satisfied: pillow>=8 in c:\\users\\project\\anaconda3\\envs\\tf\\lib\\site-packages (from matplotlib!=3.6.1,>=3.4->seaborn) (10.2.0)\n",
      "Requirement already satisfied: pyparsing>=2.3.1 in c:\\users\\project\\anaconda3\\envs\\tf\\lib\\site-packages (from matplotlib!=3.6.1,>=3.4->seaborn) (3.1.1)\n",
      "Requirement already satisfied: python-dateutil>=2.7 in c:\\users\\project\\anaconda3\\envs\\tf\\lib\\site-packages (from matplotlib!=3.6.1,>=3.4->seaborn) (2.8.2)\n",
      "Requirement already satisfied: importlib-resources>=3.2.0 in c:\\users\\project\\anaconda3\\envs\\tf\\lib\\site-packages (from matplotlib!=3.6.1,>=3.4->seaborn) (6.1.2)\n",
      "Requirement already satisfied: pytz>=2020.1 in c:\\users\\project\\anaconda3\\envs\\tf\\lib\\site-packages (from pandas>=1.2->seaborn) (2024.1)\n",
      "Requirement already satisfied: tzdata>=2022.7 in c:\\users\\project\\anaconda3\\envs\\tf\\lib\\site-packages (from pandas>=1.2->seaborn) (2024.1)\n",
      "Requirement already satisfied: zipp>=3.1.0 in c:\\users\\project\\appdata\\roaming\\python\\python39\\site-packages (from importlib-resources>=3.2.0->matplotlib!=3.6.1,>=3.4->seaborn) (3.17.0)\n",
      "Requirement already satisfied: six>=1.5 in c:\\users\\project\\appdata\\roaming\\python\\python39\\site-packages (from python-dateutil>=2.7->matplotlib!=3.6.1,>=3.4->seaborn) (1.16.0)\n"
     ]
    },
    {
     "name": "stderr",
     "output_type": "stream",
     "text": [
      "c:\\Users\\project\\anaconda3\\envs\\tf\\lib\\site-packages\\sklearn\\metrics\\_classification.py:1509: UndefinedMetricWarning: Precision is ill-defined and being set to 0.0 due to no predicted samples. Use `zero_division` parameter to control this behavior.\n",
      "  _warn_prf(average, modifier, f\"{metric.capitalize()} is\", len(result))\n"
     ]
    },
    {
     "data": {
      "image/png": "[encoded data removed]",
      "text/plain": [
       "<Figure size 800x600 with 2 Axes>"
      ]
     },
     "metadata": {},
     "output_type": "display_data"
    },
    {
     "data": {
      "image/png": "[encoded data removed]",
      "text/plain": [
       "<Figure size 800x600 with 1 Axes>"
      ]
     },
     "metadata": {},
     "output_type": "display_data"
    }
   ],
   "source": [
    "from matplotlib import pyplot as plt\n",
    "!pip install seaborn\n",
    "import seaborn as sns\n",
    "from sklearn.metrics import *\n",
    "accuracy = accuracy_score(y_test, y_pred)\n",
    "precision = precision_score(y_test, y_pred)\n",
    "recall = recall_score(y_test, y_pred)\n",
    "f1 = f1_score(y_test, y_pred)\n",
    "\n",
    "# plot confusion matrix\n",
    "cm = confusion_matrix(y_test, y_pred)\n",
    "labels = ['Healthy', 'Unhealthy']\n",
    "plt.figure(figsize=(8, 6))\n",
    "sns.heatmap(cm, annot=True, cmap='Blues', xticklabels=labels, yticklabels=labels)\n",
    "plt.xlabel('Predicted')\n",
    "plt.ylabel('True')\n",
    "plt.title('Confusion Matrix')\n",
    "plt.show()\n",
    "\n",
    "metrics = ['Accuracy', 'Precision', 'Recall', 'F1 Score']\n",
    "values = [accuracy, precision, recall, f1]\n",
    "\n",
    "plt.figure(figsize=(8, 6))\n",
    "plt.bar(metrics, values)\n",
    "plt.xlabel('Metrics')\n",
    "plt.ylabel('Values')\n",
    "plt.title('Evaluation Metrics')\n",
    "plt.show()"
   ]
  },
  {
   "cell_type": "code",
   "execution_count": 22,
   "metadata": {},
   "outputs": [
    {
     "name": "stdout",
     "output_type": "stream",
     "text": [
      "Collecting shap\n",
      "  Downloading shap-0.44.1-cp39-cp39-win_amd64.whl.metadata (25 kB)\n",
      "Requirement already satisfied: numpy in c:\\users\\project\\appdata\\roaming\\python\\python39\\site-packages (from shap) (1.26.4)\n",
      "Requirement already satisfied: scipy in c:\\users\\project\\anaconda3\\envs\\tf\\lib\\site-packages (from shap) (1.12.0)\n",
      "Requirement already satisfied: scikit-learn in c:\\users\\project\\anaconda3\\envs\\tf\\lib\\site-packages (from shap) (1.4.1.post1)\n",
      "Requirement already satisfied: pandas in c:\\users\\project\\anaconda3\\envs\\tf\\lib\\site-packages (from shap) (2.2.1)\n",
      "Collecting tqdm>=4.27.0 (from shap)\n",
      "  Downloading tqdm-4.66.2-py3-none-any.whl.metadata (57 kB)\n",
      "     ---------------------------------------- 0.0/57.6 kB ? eta -:--:--\n",
      "     ---------------------------------------- 57.6/57.6 kB 3.0 MB/s eta 0:00:00\n",
      "Requirement already satisfied: packaging>20.9 in c:\\users\\project\\appdata\\roaming\\python\\python39\\site-packages (from shap) (23.2)\n",
      "Collecting slicer==0.0.7 (from shap)\n",
      "  Downloading slicer-0.0.7-py3-none-any.whl.metadata (3.7 kB)\n",
      "Collecting numba (from shap)\n",
      "  Downloading numba-0.59.0-cp39-cp39-win_amd64.whl.metadata (2.8 kB)\n",
      "Collecting cloudpickle (from shap)\n",
      "  Downloading cloudpickle-3.0.0-py3-none-any.whl.metadata (7.0 kB)\n",
      "Requirement already satisfied: colorama in c:\\users\\project\\anaconda3\\envs\\tf\\lib\\site-packages (from tqdm>=4.27.0->shap) (0.4.6)\n",
      "Collecting llvmlite<0.43,>=0.42.0dev0 (from numba->shap)\n",
      "  Downloading llvmlite-0.42.0-cp39-cp39-win_amd64.whl.metadata (4.9 kB)\n",
      "Requirement already satisfied: python-dateutil>=2.8.2 in c:\\users\\project\\anaconda3\\envs\\tf\\lib\\site-packages (from pandas->shap) (2.8.2)\n",
      "Requirement already satisfied: pytz>=2020.1 in c:\\users\\project\\anaconda3\\envs\\tf\\lib\\site-packages (from pandas->shap) (2024.1)\n",
      "Requirement already satisfied: tzdata>=2022.7 in c:\\users\\project\\anaconda3\\envs\\tf\\lib\\site-packages (from pandas->shap) (2024.1)\n",
      "Requirement already satisfied: joblib>=1.2.0 in c:\\users\\project\\anaconda3\\envs\\tf\\lib\\site-packages (from scikit-learn->shap) (1.3.2)\n",
      "Requirement already satisfied: threadpoolctl>=2.0.0 in c:\\users\\project\\anaconda3\\envs\\tf\\lib\\site-packages (from scikit-learn->shap) (3.3.0)\n",
      "Requirement already satisfied: six>=1.5 in c:\\users\\project\\appdata\\roaming\\python\\python39\\site-packages (from python-dateutil>=2.8.2->pandas->shap) (1.16.0)\n",
      "Downloading shap-0.44.1-cp39-cp39-win_amd64.whl (450 kB)\n",
      "   ---------------------------------------- 0.0/450.3 kB ? eta -:--:--\n",
      "   --------------------------------------- 450.3/450.3 kB 13.8 MB/s eta 0:00:00\n",
      "Downloading slicer-0.0.7-py3-none-any.whl (14 kB)\n",
      "Downloading tqdm-4.66.2-py3-none-any.whl (78 kB)\n",
      "   ---------------------------------------- 0.0/78.3 kB ? eta -:--:--\n",
      "   ---------------------------------------- 78.3/78.3 kB ? eta 0:00:00\n",
      "Downloading cloudpickle-3.0.0-py3-none-any.whl (20 kB)\n",
      "Downloading numba-0.59.0-cp39-cp39-win_amd64.whl (2.6 MB)\n",
      "   ---------------------------------------- 0.0/2.6 MB ? eta -:--:--\n",
      "   ------------------------- -------------- 1.7/2.6 MB 52.5 MB/s eta 0:00:01\n",
      "   ---------------------------------------- 2.6/2.6 MB 41.8 MB/s eta 0:00:00\n",
      "Downloading llvmlite-0.42.0-cp39-cp39-win_amd64.whl (28.1 MB)\n",
      "   ---------------------------------------- 0.0/28.1 MB ? eta -:--:--\n",
      "   -- ------------------------------------- 1.7/28.1 MB 53.5 MB/s eta 0:00:01\n",
      "   ---- ----------------------------------- 3.3/28.1 MB 41.7 MB/s eta 0:00:01\n",
      "   ------- -------------------------------- 5.3/28.1 MB 48.9 MB/s eta 0:00:01\n",
      "   --------- ------------------------------ 6.8/28.1 MB 39.9 MB/s eta 0:00:01\n",
      "   ------------ --------------------------- 9.0/28.1 MB 44.3 MB/s eta 0:00:01\n",
      "   --------------- ------------------------ 10.6/28.1 MB 43.5 MB/s eta 0:00:01\n",
      "   ------------------ --------------------- 12.7/28.1 MB 43.7 MB/s eta 0:00:01\n",
      "   --------------------- ------------------ 14.8/28.1 MB 43.5 MB/s eta 0:00:01\n",
      "   ----------------------- ---------------- 16.5/28.1 MB 43.7 MB/s eta 0:00:01\n",
      "   -------------------------- ------------- 18.7/28.1 MB 43.7 MB/s eta 0:00:01\n",
      "   ----------------------------- ---------- 20.9/28.1 MB 43.7 MB/s eta 0:00:01\n",
      "   -------------------------------- ------- 23.1/28.1 MB 43.5 MB/s eta 0:00:01\n",
      "   ------------------------------------ --- 25.4/28.1 MB 40.9 MB/s eta 0:00:01\n",
      "   -------------------------------------- - 27.1/28.1 MB 43.7 MB/s eta 0:00:01\n",
      "   ---------------------------------------  28.1/28.1 MB 43.5 MB/s eta 0:00:01\n",
      "   ---------------------------------------- 28.1/28.1 MB 36.3 MB/s eta 0:00:00\n",
      "Installing collected packages: tqdm, slicer, llvmlite, cloudpickle, numba, shap\n",
      "Successfully installed cloudpickle-3.0.0 llvmlite-0.42.0 numba-0.59.0 shap-0.44.1 slicer-0.0.7 tqdm-4.66.2\n"
     ]
    },
    {
     "name": "stderr",
     "output_type": "stream",
     "text": [
      "IProgress not found. Please update jupyter and ipywidgets. See https://ipywidgets.readthedocs.io/en/stable/user_install.html\n"
     ]
    }
   ],
   "source": [
    "import matplotlib.pyplot as plt\n",
    "!pip install shap\n",
    "import shap"
   ]
  },
  {
   "cell_type": "code",
   "execution_count": 26,
   "metadata": {},
   "outputs": [
    {
     "ename": "ValueError",
     "evalue": "masker cannot be None.",
     "output_type": "error",
     "traceback": [
      "\u001b[1;31m---------------------------------------------------------------------------\u001b[0m",
      "\u001b[1;31mValueError\u001b[0m                                Traceback (most recent call last)",
      "Cell \u001b[1;32mIn[26], line 1\u001b[0m\n\u001b[1;32m----> 1\u001b[0m explainer \u001b[38;5;241m=\u001b[39m \u001b[43mshap\u001b[49m\u001b[38;5;241;43m.\u001b[39;49m\u001b[43mExplainer\u001b[49m\u001b[43m(\u001b[49m\u001b[43mtest_model\u001b[49m\u001b[43m)\u001b[49m\n\u001b[0;32m      2\u001b[0m shap_values \u001b[38;5;241m=\u001b[39m explainer\u001b[38;5;241m.\u001b[39mshap_values(x_test, nsamples\u001b[38;5;241m=\u001b[39m\u001b[38;5;241m100\u001b[39m)\n",
      "File \u001b[1;32mc:\\Users\\project\\anaconda3\\envs\\tf\\lib\\site-packages\\shap\\explainers\\_explainer.py:182\u001b[0m, in \u001b[0;36mExplainer.__init__\u001b[1;34m(self, model, masker, link, algorithm, output_names, feature_names, linearize_link, seed, **kwargs)\u001b[0m\n\u001b[0;32m    180\u001b[0m \u001b[38;5;28;01melif\u001b[39;00m algorithm \u001b[38;5;241m==\u001b[39m \u001b[38;5;124m\"\u001b[39m\u001b[38;5;124mpermutation\u001b[39m\u001b[38;5;124m\"\u001b[39m:\n\u001b[0;32m    181\u001b[0m     \u001b[38;5;28mself\u001b[39m\u001b[38;5;241m.\u001b[39m\u001b[38;5;18m__class__\u001b[39m \u001b[38;5;241m=\u001b[39m explainers\u001b[38;5;241m.\u001b[39mPermutationExplainer\n\u001b[1;32m--> 182\u001b[0m     explainers\u001b[38;5;241m.\u001b[39mPermutationExplainer\u001b[38;5;241m.\u001b[39m\u001b[38;5;21m__init__\u001b[39m(\u001b[38;5;28mself\u001b[39m, \u001b[38;5;28mself\u001b[39m\u001b[38;5;241m.\u001b[39mmodel, \u001b[38;5;28mself\u001b[39m\u001b[38;5;241m.\u001b[39mmasker, link\u001b[38;5;241m=\u001b[39m\u001b[38;5;28mself\u001b[39m\u001b[38;5;241m.\u001b[39mlink, feature_names\u001b[38;5;241m=\u001b[39m\u001b[38;5;28mself\u001b[39m\u001b[38;5;241m.\u001b[39mfeature_names, linearize_link\u001b[38;5;241m=\u001b[39mlinearize_link, seed\u001b[38;5;241m=\u001b[39mseed, \u001b[38;5;241m*\u001b[39m\u001b[38;5;241m*\u001b[39mkwargs)\n\u001b[0;32m    183\u001b[0m \u001b[38;5;28;01melif\u001b[39;00m algorithm \u001b[38;5;241m==\u001b[39m \u001b[38;5;124m\"\u001b[39m\u001b[38;5;124mpartition\u001b[39m\u001b[38;5;124m\"\u001b[39m:\n\u001b[0;32m    184\u001b[0m     \u001b[38;5;28mself\u001b[39m\u001b[38;5;241m.\u001b[39m\u001b[38;5;18m__class__\u001b[39m \u001b[38;5;241m=\u001b[39m explainers\u001b[38;5;241m.\u001b[39mPartitionExplainer\n",
      "File \u001b[1;32mc:\\Users\\project\\anaconda3\\envs\\tf\\lib\\site-packages\\shap\\explainers\\_permutation.py:51\u001b[0m, in \u001b[0;36mPermutationExplainer.__init__\u001b[1;34m(self, model, masker, link, feature_names, linearize_link, seed, **call_args)\u001b[0m\n\u001b[0;32m     48\u001b[0m np\u001b[38;5;241m.\u001b[39mrandom\u001b[38;5;241m.\u001b[39mseed(seed)\n\u001b[0;32m     50\u001b[0m \u001b[38;5;28;01mif\u001b[39;00m masker \u001b[38;5;129;01mis\u001b[39;00m \u001b[38;5;28;01mNone\u001b[39;00m:\n\u001b[1;32m---> 51\u001b[0m     \u001b[38;5;28;01mraise\u001b[39;00m \u001b[38;5;167;01mValueError\u001b[39;00m(\u001b[38;5;124m\"\u001b[39m\u001b[38;5;124mmasker cannot be None.\u001b[39m\u001b[38;5;124m\"\u001b[39m)\n\u001b[0;32m     53\u001b[0m \u001b[38;5;28msuper\u001b[39m()\u001b[38;5;241m.\u001b[39m\u001b[38;5;21m__init__\u001b[39m(model, masker, link\u001b[38;5;241m=\u001b[39mlink, linearize_link\u001b[38;5;241m=\u001b[39mlinearize_link, feature_names\u001b[38;5;241m=\u001b[39mfeature_names)\n\u001b[0;32m     55\u001b[0m \u001b[38;5;28;01mif\u001b[39;00m \u001b[38;5;129;01mnot\u001b[39;00m \u001b[38;5;28misinstance\u001b[39m(\u001b[38;5;28mself\u001b[39m\u001b[38;5;241m.\u001b[39mmodel, Model):\n",
      "\u001b[1;31mValueError\u001b[0m: masker cannot be None."
     ]
    }
   ],
   "source": []
  },
  {
   "cell_type": "code",
   "execution_count": 31,
   "metadata": {},
   "outputs": [
    {
     "ename": "ValueError",
     "evalue": "masker cannot be None.",
     "output_type": "error",
     "traceback": [
      "\u001b[1;31m---------------------------------------------------------------------------\u001b[0m",
      "\u001b[1;31mValueError\u001b[0m                                Traceback (most recent call last)",
      "Cell \u001b[1;32mIn[31], line 1\u001b[0m\n\u001b[1;32m----> 1\u001b[0m explainer \u001b[38;5;241m=\u001b[39m \u001b[43mshap\u001b[49m\u001b[38;5;241;43m.\u001b[39;49m\u001b[43mExplainer\u001b[49m\u001b[43m(\u001b[49m\u001b[43mmodel\u001b[49m\u001b[43m)\u001b[49m\n\u001b[0;32m      2\u001b[0m shap_values \u001b[38;5;241m=\u001b[39m explainer\u001b[38;5;241m.\u001b[39mshap_values(x_test, nsamples\u001b[38;5;241m=\u001b[39m\u001b[38;5;241m100\u001b[39m)\n",
      "File \u001b[1;32mc:\\Users\\project\\anaconda3\\envs\\tf\\lib\\site-packages\\shap\\explainers\\_explainer.py:182\u001b[0m, in \u001b[0;36mExplainer.__init__\u001b[1;34m(self, model, masker, link, algorithm, output_names, feature_names, linearize_link, seed, **kwargs)\u001b[0m\n\u001b[0;32m    180\u001b[0m \u001b[38;5;28;01melif\u001b[39;00m algorithm \u001b[38;5;241m==\u001b[39m \u001b[38;5;124m\"\u001b[39m\u001b[38;5;124mpermutation\u001b[39m\u001b[38;5;124m\"\u001b[39m:\n\u001b[0;32m    181\u001b[0m     \u001b[38;5;28mself\u001b[39m\u001b[38;5;241m.\u001b[39m\u001b[38;5;18m__class__\u001b[39m \u001b[38;5;241m=\u001b[39m explainers\u001b[38;5;241m.\u001b[39mPermutationExplainer\n\u001b[1;32m--> 182\u001b[0m     explainers\u001b[38;5;241m.\u001b[39mPermutationExplainer\u001b[38;5;241m.\u001b[39m\u001b[38;5;21m__init__\u001b[39m(\u001b[38;5;28mself\u001b[39m, \u001b[38;5;28mself\u001b[39m\u001b[38;5;241m.\u001b[39mmodel, \u001b[38;5;28mself\u001b[39m\u001b[38;5;241m.\u001b[39mmasker, link\u001b[38;5;241m=\u001b[39m\u001b[38;5;28mself\u001b[39m\u001b[38;5;241m.\u001b[39mlink, feature_names\u001b[38;5;241m=\u001b[39m\u001b[38;5;28mself\u001b[39m\u001b[38;5;241m.\u001b[39mfeature_names, linearize_link\u001b[38;5;241m=\u001b[39mlinearize_link, seed\u001b[38;5;241m=\u001b[39mseed, \u001b[38;5;241m*\u001b[39m\u001b[38;5;241m*\u001b[39mkwargs)\n\u001b[0;32m    183\u001b[0m \u001b[38;5;28;01melif\u001b[39;00m algorithm \u001b[38;5;241m==\u001b[39m \u001b[38;5;124m\"\u001b[39m\u001b[38;5;124mpartition\u001b[39m\u001b[38;5;124m\"\u001b[39m:\n\u001b[0;32m    184\u001b[0m     \u001b[38;5;28mself\u001b[39m\u001b[38;5;241m.\u001b[39m\u001b[38;5;18m__class__\u001b[39m \u001b[38;5;241m=\u001b[39m explainers\u001b[38;5;241m.\u001b[39mPartitionExplainer\n",
      "File \u001b[1;32mc:\\Users\\project\\anaconda3\\envs\\tf\\lib\\site-packages\\shap\\explainers\\_permutation.py:51\u001b[0m, in \u001b[0;36mPermutationExplainer.__init__\u001b[1;34m(self, model, masker, link, feature_names, linearize_link, seed, **call_args)\u001b[0m\n\u001b[0;32m     48\u001b[0m np\u001b[38;5;241m.\u001b[39mrandom\u001b[38;5;241m.\u001b[39mseed(seed)\n\u001b[0;32m     50\u001b[0m \u001b[38;5;28;01mif\u001b[39;00m masker \u001b[38;5;129;01mis\u001b[39;00m \u001b[38;5;28;01mNone\u001b[39;00m:\n\u001b[1;32m---> 51\u001b[0m     \u001b[38;5;28;01mraise\u001b[39;00m \u001b[38;5;167;01mValueError\u001b[39;00m(\u001b[38;5;124m\"\u001b[39m\u001b[38;5;124mmasker cannot be None.\u001b[39m\u001b[38;5;124m\"\u001b[39m)\n\u001b[0;32m     53\u001b[0m \u001b[38;5;28msuper\u001b[39m()\u001b[38;5;241m.\u001b[39m\u001b[38;5;21m__init__\u001b[39m(model, masker, link\u001b[38;5;241m=\u001b[39mlink, linearize_link\u001b[38;5;241m=\u001b[39mlinearize_link, feature_names\u001b[38;5;241m=\u001b[39mfeature_names)\n\u001b[0;32m     55\u001b[0m \u001b[38;5;28;01mif\u001b[39;00m \u001b[38;5;129;01mnot\u001b[39;00m \u001b[38;5;28misinstance\u001b[39m(\u001b[38;5;28mself\u001b[39m\u001b[38;5;241m.\u001b[39mmodel, Model):\n",
      "\u001b[1;31mValueError\u001b[0m: masker cannot be None."
     ]
    }
   ],
   "source": [
    "explainer = shap.Explainer(model)\n",
    "shap_values = explainer.shap_values(x_test, nsamples=100)"
   ]
  },
  {
   "cell_type": "code",
   "execution_count": 46,
   "metadata": {},
   "outputs": [],
   "source": [
    "x_test = load_images(x_test_paths)\n",
    "def dummy_model_predict(input_data):\n",
    "    # Replace this with your own logic to simulate the model's output\n",
    "    return np.random.rand(len(input_data), 2)  # Replace num_classes with the number of classes in your model\n",
    "\n",
    "# Create a SHAP masker using the background data\n",
    "masker = shap.maskers.Image(x_test[:5])\n",
    "\n",
    "# Create a SHAP explainer using the dummy function and the masker\n",
    "explainer = shap.Explainer(dummy_model_predict, masker)\n",
    "\n",
    "# Choose a subset of your data\n",
    "subset_indices = np.random.choice(len(x_test), 7, replace=True)  # Adjust the number based on your time constraints\n",
    "x_test_subset = x_test[subset_indices]\n",
    "\n",
    "# Create a SHAP masker using the subset data\n",
    "masker = shap.maskers.Image(x_test_subset)\n",
    "\n",
    "# Create a SHAP explainer using the dummy function and the masker\n",
    "explainer = shap.Explainer(dummy_model_predict, masker)\n",
    "\n",
    "# Create interpretability plots for the chosen images\n",
    "for idx in range(len(x_test_subset)):\n",
    "    shap_values = explainer(x_test_subset[idx:idx+1])\n",
    "    shap.image_plot(shap_values, x_test_subset[idx])"
   ]
  },
  {
   "cell_type": "code",
   "execution_count": null,
   "metadata": {},
   "outputs": [],
   "source": []
  }
 ],
 "metadata": {
  "kernelspec": {
   "display_name": "Python 3",
   "language": "python",
   "name": "python3"
  },
  "language_info": {
   "codemirror_mode": {
    "name": "ipython",
    "version": 3
   },
   "file_extension": ".py",
   "mimetype": "text/x-python",
   "name": "python",
   "nbconvert_exporter": "python",
   "pygments_lexer": "ipython3",
   "version": "3.9.18"
  }
 },
 "nbformat": 4,
 "nbformat_minor": 2
}
