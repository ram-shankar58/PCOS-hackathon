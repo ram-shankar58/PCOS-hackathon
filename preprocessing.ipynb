{
 "cells": [
  {
   "cell_type": "code",
   "execution_count": 1,
   "metadata": {},
   "outputs": [
    {
     "name": "stderr",
     "output_type": "stream",
     "text": [
      "C:\\Users\\hp\\AppData\\Local\\Temp\\ipykernel_15616\\2096529104.py:4: DeprecationWarning: \n",
      "Pyarrow will become a required dependency of pandas in the next major release of pandas (pandas 3.0),\n",
      "(to allow more performant data types, such as the Arrow string type, and better interoperability with other libraries)\n",
      "but was not found to be installed on your system.\n",
      "If this would cause problems for you,\n",
      "please provide us feedback at https://github.com/pandas-dev/pandas/issues/54466\n",
      "        \n",
      "  import pandas as pd\n"
     ]
    }
   ],
   "source": [
    "\n",
    "import os\n",
    "import cv2\n",
    "import numpy as np \n",
    "import pandas as pd"
   ]
  },
  {
   "cell_type": "code",
   "execution_count": 2,
   "metadata": {},
   "outputs": [],
   "source": [
    "imagefolder='Dataset\\PCOSGen-train\\PCOSGen-train\\images'\n",
    "images=[]\n",
    "labelslist=[]\n",
    "size=(280,280)\n",
    "\n"
   ]
  },
  {
   "cell_type": "code",
   "execution_count": 3,
   "metadata": {},
   "outputs": [
    {
     "name": "stdout",
     "output_type": "stream",
     "text": [
      "WARNING:tensorflow:From f:\\Stuff from E\\Programmes\\Python\\Lib\\site-packages\\keras\\src\\losses.py:2976: The name tf.losses.sparse_softmax_cross_entropy is deprecated. Please use tf.compat.v1.losses.sparse_softmax_cross_entropy instead.\n",
      "\n"
     ]
    }
   ],
   "source": [
    "from tensorflow.keras.preprocessing.image import ImageDataGenerator\n",
    "\n",
    "\n",
    "\n"
   ]
  },
  {
   "cell_type": "code",
   "execution_count": 5,
   "metadata": {},
   "outputs": [],
   "source": [
    "labels=pd.read_excel('Dataset\\PCOSGen-train\\PCOSGen-train\\class_label.xlsx')\n",
    "labels['Healthy']=labels['Healthy'].astype(int)\n",
    "numrows=len(labels)\n",
    "labels.dropna(inplace=True)\n",
    "numrowsdrop=numrows-len(labels)\n",
    "X=labels['imagePath']\n",
    "y=labels['Healthy']\n",
    "\n",
    "healthy=labels[labels['Healthy']==1]['imagePath'].tolist()\n",
    "unhealthy=labels[labels['Healthy']==0]['imagePath'].tolist()\n",
    "\n"
   ]
  },
  {
   "cell_type": "code",
   "execution_count": 13,
   "metadata": {},
   "outputs": [],
   "source": [
    "output_folder_healthy = 'Dataset/healthy'\n",
    "output_folder_unhealthy = 'Dataset/unhealthy'\n",
    "\n",
    "# Ensure the output folders exist, or create them if not\n",
    "os.makedirs(output_folder_healthy, exist_ok=True)\n",
    "os.makedirs(output_folder_unhealthy, exist_ok=True)"
   ]
  },
  {
   "cell_type": "code",
   "execution_count": 14,
   "metadata": {},
   "outputs": [],
   "source": [
    "def resize_and_save_images(image_paths, output_folder):\n",
    "    for image_path in image_paths:\n",
    "        img = cv2.imread(os.path.join(imagefolder, image_path))\n",
    "\n",
    "        if img is not None:\n",
    "            img_resized = cv2.resize(img, size)\n",
    "            \n",
    "\n",
    "            # Save resized image to the output folder\n",
    "            output_path = os.path.join(output_folder, os.path.basename(image_path))\n",
    "            cv2.imwrite(output_path, img_resized)\n",
    "        else:\n",
    "            print(f\"Failed to read or resize image: {image_path}\")"
   ]
  },
  {
   "cell_type": "code",
   "execution_count": 15,
   "metadata": {},
   "outputs": [],
   "source": [
    "resize_and_save_images(healthy, output_folder_healthy)\n",
    "\n",
    "# Resize and save unhealthy images\n",
    "resize_and_save_images(unhealthy, output_folder_unhealthy)"
   ]
  },
  {
   "cell_type": "code",
   "execution_count": 16,
   "metadata": {},
   "outputs": [],
   "source": [
    "from sklearn.model_selection import train_test_split\n",
    "\n",
    "X_train, X_test, y_train, y_test = train_test_split(X, y, test_size=0.2, random_state=42)\n"
   ]
  },
  {
   "cell_type": "code",
   "execution_count": 19,
   "metadata": {},
   "outputs": [],
   "source": [
    "from sklearn.utils import shuffle\n",
    "\n",
    "X_train, y_train = shuffle(X_train, y_train, random_state=42)\n"
   ]
  },
  {
   "cell_type": "code",
   "execution_count": 22,
   "metadata": {},
   "outputs": [],
   "source": [
    "np.save('Dataset/X_train.npy', X_train)\n",
    "np.save('Dataset/y_train.npy', y_train)\n",
    "np.save('Dataset/X_test.npy', X_test)\n",
    "np.save('Dataset/y_test.npy', y_test)\n"
   ]
  }
 ],
 "metadata": {
  "kernelspec": {
   "display_name": "Python 3",
   "language": "python",
   "name": "python3"
  },
  "language_info": {
   "codemirror_mode": {
    "name": "ipython",
    "version": 3
   },
   "file_extension": ".py",
   "mimetype": "text/x-python",
   "name": "python",
   "nbconvert_exporter": "python",
   "pygments_lexer": "ipython3",
   "version": "3.11.1"
  }
 },
 "nbformat": 4,
 "nbformat_minor": 2
}
